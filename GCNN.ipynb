{
  "cells": [
    {
      "cell_type": "markdown",
      "metadata": {
        "id": "r5OAhzo75jTD"
      },
      "source": [
        "### This is a step by step walk through a Pytorch implementation of a gated convolutional neural network (GCNN) from Dauphin et al.'s 2017 paper. I use the wikitext-2 dataset.\n",
        "### "
      ]
    },
    {
      "cell_type": "markdown",
      "metadata": {
        "id": "Fh9yqzmj5jTI"
      },
      "source": [
        "# Download and preprocess data"
      ]
    },
    {
      "cell_type": "code",
      "source": [
        "!pip install spacy==2.2.4"
      ],
      "metadata": {
        "id": "FABdN-oAIaeH"
      },
      "execution_count": null,
      "outputs": []
    },
    {
      "cell_type": "code",
      "source": [
        "!pip install fastai==1.0.61"
      ],
      "metadata": {
        "id": "0GgUfSM6GmH_"
      },
      "execution_count": null,
      "outputs": []
    },
    {
      "cell_type": "code",
      "execution_count": null,
      "metadata": {
        "id": "ddCJdvvh5jTN"
      },
      "outputs": [],
      "source": [
        "from fastai import *\n",
        "from fastai.text import * \n",
        "\n",
        "import torch.utils.data as data_utils\n",
        "from torch.utils.data.dataset import Dataset\n",
        "from torch.utils.data.sampler import Sampler\n",
        "from torch.autograd import Variable\n",
        "\n",
        "import time\n",
        "import importlib\n",
        "import seaborn as sns\n",
        "\n",
        "from GCNN_textfuncs import *"
      ]
    },
    {
      "cell_type": "code",
      "execution_count": null,
      "metadata": {
        "id": "LA9A9JHB5jTO"
      },
      "outputs": [],
      "source": [
        "DATAPATH = Path('/data/GCNN/')"
      ]
    },
    {
      "cell_type": "code",
      "execution_count": null,
      "metadata": {
        "id": "-wdt07L-5jTP"
      },
      "outputs": [],
      "source": [
        "sns.set() #set graph formatting to seaborn"
      ]
    },
    {
      "cell_type": "code",
      "execution_count": null,
      "metadata": {
        "id": "Vl3O9PTP5jTQ",
        "outputId": "f34ac0c6-9dab-4706-8598-a4feef513dae"
      },
      "outputs": [
        {
          "name": "stdout",
          "output_type": "stream",
          "text": [
            "--2018-12-10 20:33:38--  https://s3.amazonaws.com/fast-ai-nlp/wikitext-2.tgz\n",
            "Resolving s3.amazonaws.com (s3.amazonaws.com)... 52.216.236.53\n",
            "Connecting to s3.amazonaws.com (s3.amazonaws.com)|52.216.236.53|:443... connected.\n",
            "HTTP request sent, awaiting response... 200 OK\n",
            "Length: 4070055 (3.9M) [application/x-tar]\n",
            "Saving to: '/data/wikitext-2.tgz.1'\n",
            "\n",
            "wikitext-2.tgz.1    100%[===================>]   3.88M   723KB/s    in 6.5s    \n",
            "\n",
            "2018-12-10 20:33:45 (610 KB/s) - '/data/wikitext-2.tgz.1' saved [4070055/4070055]\n",
            "\n",
            "--2018-12-10 20:33:46--  http://nlp.stanford.edu/data/glove.6B.zip\n",
            "Resolving nlp.stanford.edu (nlp.stanford.edu)... 171.64.67.140\n",
            "Connecting to nlp.stanford.edu (nlp.stanford.edu)|171.64.67.140|:80... connected.\n",
            "HTTP request sent, awaiting response... 302 Found\n",
            "Location: https://nlp.stanford.edu/data/glove.6B.zip [following]\n",
            "--2018-12-10 20:33:46--  https://nlp.stanford.edu/data/glove.6B.zip\n",
            "Connecting to nlp.stanford.edu (nlp.stanford.edu)|171.64.67.140|:443... connected.\n",
            "HTTP request sent, awaiting response... 200 OK\n",
            "Length: 862182613 (822M) [application/zip]\n",
            "Saving to: '/data/GCNN/glove.6B.zip'\n",
            "\n",
            "glove.6B.zip        100%[===================>] 822.24M   993KB/s    in 14m 1s  \n",
            "\n",
            "2018-12-10 20:47:47 (1001 KB/s) - '/data/GCNN/glove.6B.zip' saved [862182613/862182613]\n",
            "\n",
            "Archive:  /data/GCNN/glove.6B.zip\n",
            "  inflating: /data/GCNN/glove.6B.50d.txt  \n",
            "  inflating: /data/GCNN/glove.6B.100d.txt  \n",
            "  inflating: /data/GCNN/glove.6B.200d.txt  \n",
            "  inflating: /data/GCNN/glove.6B.300d.txt  \n"
          ]
        }
      ],
      "source": [
        "#download wikitext-2 dataset and GloVe embeddings\n",
        "!wget https://s3.amazonaws.com/fast-ai-nlp/wikitext-2.tgz -P /data\n",
        "!tar xzf /data/wikitext-2.tgz -C /data\n",
        "!mv /data/wikitext-2/ /data/GCNN/\n",
        "!wget http://nlp.stanford.edu/data/glove.6B.zip -P /data/GCNN/\n",
        "!unzip /data/GCNN/glove.6B.zip -d /data/GCNN/"
      ]
    },
    {
      "cell_type": "code",
      "execution_count": null,
      "metadata": {
        "id": "Stfy-wmK5jTS"
      },
      "outputs": [],
      "source": [
        "#Do some preprocessing of the data:\n",
        "\n",
        "#put data into df's w/ columns for 'labels' and 'text'\n",
        "df_trn = pd.read_csv(DATAPATH/'train.csv',header=None,names=['text'])\n",
        "df_test = pd.read_csv(DATAPATH/'test.csv',header=None,names=['text'])\n",
        "df_trn['labels']=0\n",
        "df_test['labels']=0\n",
        "df_trn=df_trn[['labels','text']]\n",
        "df_test=df_test[['labels','text']]\n",
        "\n",
        "#split data into paragraphs, then remove paragraphs <10 or >300 words\n",
        "trn_paragraphs=[]\n",
        "for docnum in range(len(df_trn)):\n",
        "    trn_paragraphs.extend([x for x in df_trn.iloc[docnum].text.split('\\n')])\n",
        "trn_paragraphs.sort(key=len)\n",
        "trn_paragraphs=[par for par in trn_paragraphs if (len(par.split(' '))<300 and len(par.split(' '))>10)]#remove paragraphs >300 and <10 words\n",
        "trn_paragraphs=[par+'xxeos ' for par in trn_paragraphs] #add EOS token at end of each paragraph\n",
        "\n",
        "test_paragraphs=[]\n",
        "for docnum in range(len(df_test)):\n",
        "    test_paragraphs.extend([x for x in df_test.iloc[docnum].text.split('\\n')])\n",
        "test_paragraphs.sort(key=len)\n",
        "test_paragraphs=[par for par in test_paragraphs if (len(par.split(' '))<300 and len(par.split(' '))>10)]#remove paragraphs >300 and <10 words\n",
        "test_paragraphs=[par+'xxeos ' for par in test_paragraphs] #add EOS token at end of each paragraph\n",
        "\n",
        "#put data into csv's\n",
        "df_trn_par = pd.DataFrame({'text':trn_paragraphs})\n",
        "df_test_par = pd.DataFrame({'text':test_paragraphs})\n",
        "\n",
        "df_trn_par['labels']=0\n",
        "df_test_par['labels']=0\n",
        "df_trn_par=df_trn_par[['labels','text']]\n",
        "df_test_par=df_test_par[['labels','text']]\n",
        "\n",
        "df_trn_par.to_csv(DATAPATH/'train_proc_par2.csv', header=False, index=False)\n",
        "df_test_par.to_csv(DATAPATH/'test_proc_par2.csv', header=False, index=False)\n"
      ]
    },
    {
      "cell_type": "markdown",
      "metadata": {
        "id": "8ohvA0vU5jTT"
      },
      "source": [
        "# Create modeler class"
      ]
    },
    {
      "cell_type": "code",
      "execution_count": null,
      "metadata": {
        "id": "h91PRbLL5jTV"
      },
      "outputs": [],
      "source": [
        "class modeler():\n",
        "    def __init__(self,trn_dl,val_dl,module,modelvals=None):\n",
        "        self.trn_dl, self.val_dl, self.module = trn_dl, val_dl, module\n",
        "        self.modelvals=modelvals\n",
        "        self.model=self.module.cuda()\n",
        "    def model_fit(self):\n",
        "        samp_n=self.modelvals['samp_n']#the number of iterations in an epoch\n",
        "        starttime=time.time()\n",
        "        train_loss_list=[]; val_loss_list=[]\n",
        "        for epoch in range(0, self.modelvals['epochs']):\n",
        "            pbar=0#progressbar\n",
        "            for batch_idx, (data, target) in enumerate(self.trn_dl):\n",
        "                \n",
        "                #GRAB MINIBATCH OF INPUTS AND TARGETS, SET OPTIMIZER\n",
        "                data = Variable(data)\n",
        "                pbar+=self.modelvals['bs'] #how many iterations have we done in the epoch so far\n",
        "                if self.modelvals['opttype']=='sgd':\n",
        "                    self.optimizer = optim.SGD(self.model.parameters(), lr=self.modelvals['lr'], \n",
        "                                       momentum=self.modelvals['mom'], weight_decay=self.modelvals['wd'],\n",
        "                                              nesterov=self.modelvals['nesterov'])\n",
        "                elif self.modelvals['opttype']=='adam':\n",
        "                    self.optimizer = optim.Adam(self.model.parameters(), lr=self.modelvals['lr'], \n",
        "                                        betas=(self.modelvals['mom'], 0.999))\n",
        "                self.optimizer.zero_grad()\n",
        "                \n",
        "                #FORWARD PASS\n",
        "                output = self.model(data)\n",
        "                \n",
        "                #CALCULATE AND BACKPROP THE LOSS\n",
        "                loss= output.loss\n",
        "                loss.backward()\n",
        "                if self.modelvals['grad_clip']!=0: #gradient clipping\n",
        "                    torch.nn.utils.clip_grad_value_(self.model.parameters(), self.modelvals['grad_clip'])\n",
        "                    \n",
        "                #UPDATE THE WEIGHTS\n",
        "                self.optimizer.step()\n",
        "                \n",
        "                #PRINT OUT TRAINING UPDATES\n",
        "                train_loss_list.append([epoch,pbar+epoch*samp_n,loss.data.item(),self.modelvals['lr']])\n",
        "                if batch_idx % 100 == 0:\n",
        "                    elapsed_time=time.time()-starttime\n",
        "                    train_update_format_string = 'Train Epoch: {}'\n",
        "                    train_update_format_string += '\\tTotal_its: {:.2f}M [{:.2f}M/{:.2f}M]'\n",
        "                    train_update_format_string += '\\tPercdone: {:.2f}'\n",
        "                    train_update_format_string += '\\tLoss: {:.4f}'\n",
        "                    train_update_format_string += '\\tTime: {:.2f}'\n",
        "                    train_update_format_string += '\\tLR: {:.4f}'\n",
        "                    train_update_string=train_update_format_string.format(\n",
        "                            epoch,\n",
        "                            (pbar + epoch * samp_n) / 1000000, pbar / 1000000, samp_n / 1000000,\n",
        "                            pbar / samp_n,\n",
        "                            loss.data.item(),\n",
        "                            elapsed_time / 60,\n",
        "                            self.modelvals['lr'])\n",
        "                    print(train_update_string)\n",
        "            final_train_loss=loss.data.item()\n",
        "            \n",
        "            #NOW TEST VALIDATION SET\n",
        "            val_loss=[]\n",
        "            self.model.eval() #important to set to eval mode for testing, so that eg batchnorm and dropout aren't used\n",
        "            for batch_idx, (data, target) in enumerate(self.val_dl):\n",
        "                data = Variable(data)\n",
        "                self.optimizer.zero_grad()\n",
        "                #ONLY NEED FORWARD PASS... NO BACKPROP\n",
        "                output = self.model(data)\n",
        "                loss= output.loss\n",
        "                output=output.output\n",
        "                val_loss.append(loss.data.item())\n",
        "            self.model.train() #set back to training mode\n",
        "            ave_val_loss=sum(val_loss) / len(val_loss)\n",
        "            val_update_string='Validation Loss: {:.4f}\\tPerp: {:.4f}'.format(\n",
        "                ave_val_loss,np.exp(ave_val_loss))\n",
        "            print(val_update_string)\n",
        "            val_loss_list.append([epoch,ave_val_loss, np.exp(ave_val_loss),elapsed_time/60])\n",
        "        self.modelvals['val_loss_list']=val_loss_list\n",
        "        self.modelvals['train_loss_list']=train_loss_list\n",
        "        print('The end! {:.2f} minutes'.format((time.time()-starttime)/60))"
      ]
    },
    {
      "cell_type": "markdown",
      "metadata": {
        "id": "QTH6rkrG5jTW"
      },
      "source": [
        "# Set hyperparameters and build embeddings"
      ]
    },
    {
      "cell_type": "code",
      "execution_count": null,
      "metadata": {
        "id": "fqMyzyOr5jTX"
      },
      "outputs": [],
      "source": [
        "#set hyperparameters\n",
        "bs=50 #batch-size\n",
        "emb_sz=300 #size of the embedding matrix\n",
        "nl=4 #number of layers\n",
        "nh=600 #number hidden units\n",
        "lr=1 #learning rate\n",
        "mom=.95 #momentum\n",
        "wd=5e-5 #weight-decay. Only has effect if opttype==sgd\n",
        "epochs=50\n",
        "nesterov=True #Nesterov momentum. only has effect if opttype==sgd\n",
        "grad_clip=0.07 #gradient clipping value. Set to 0 for no effect. See nn.utils.clip_grad_value_\n",
        "opttype='sgd' #adam, sgd\n",
        "k=4 #kernel_width\n",
        "downbot=20# in the bottleneck layers, how much to decrease channel depth?\n"
      ]
    },
    {
      "cell_type": "code",
      "execution_count": null,
      "metadata": {
        "id": "k3kRgwxl5jTY"
      },
      "outputs": [],
      "source": [
        "#Use fast.ai to create a TextLMDataBunch object. See http://docs.fast.ai/text.data.html#class-textlmdatabunch\n",
        "#This tokenizes and numericalizes the data\n",
        "data_lm = TextLMDataBunch.from_csv(path=DATAPATH, csv_name='train_proc_par2.csv', test='test_proc_par2.csv')\n",
        "itos=data_lm.train_ds.vocab.itos# the vocab\n",
        "vs=len(itos)# vs is the length of the vocab\n",
        "\n",
        "#Grab the numericalized data from the TextLMDataBunch dataset, then construct new custom dataset using LMDataset_GCNN\n",
        "trn_tokens=[data_lm.train_ds[i][0].data for i in range(len(data_lm.train_ds))]\n",
        "traindataset=LMDataset_GCNN(trn_tokens)\n",
        "valid_tokens=[data_lm.valid_ds[i][0].data for i in range(len(data_lm.valid_ds))]\n",
        "validdataset=LMDataset_GCNN(valid_tokens)\n",
        "\n",
        "#Create data loaders for training and validation sets\n",
        "trn_samp=SortishSampler_GCNN(data_length=len(traindataset),key=lambda x:len(traindataset[x][0]), bs=bs)\n",
        "val_samp=SortSampler_GCNN(validdataset,key=lambda x:len(validdataset[x][0]))\n",
        "train_loader = data_utils.DataLoader(traindataset, batch_size=bs, collate_fn=pad_collate_GCNN, sampler=trn_samp)\n",
        "val_loader = data_utils.DataLoader(validdataset, batch_size=bs, collate_fn=pad_collate_GCNN,sampler=val_samp)\n",
        "samp_n=len(traindataset)\n",
        "val_samp_n=len(validdataset)"
      ]
    },
    {
      "cell_type": "code",
      "execution_count": null,
      "metadata": {
        "id": "raxdVjET5jTY"
      },
      "outputs": [],
      "source": [
        "#put hyperparameters into a dictionary\n",
        "def get_modelvals():\n",
        "    modelvals=dict((name,eval(name)) for name in [\n",
        "        'lr','mom','wd','opttype','epochs','samp_n','val_samp_n',\n",
        "        'bs','emb_sz','vs', 'nh', 'nl','DATAPATH','nesterov','grad_clip',\n",
        "        'k','downbot'] )\n",
        "    return modelvals\n",
        "\n",
        "modelvals=get_modelvals()"
      ]
    },
    {
      "cell_type": "code",
      "execution_count": null,
      "metadata": {
        "id": "l5W8gvNM5jTZ"
      },
      "outputs": [],
      "source": [
        "#grab GloVe embeddings:\n",
        "#create vocab itos2 from downloaded glove file\n",
        "words = []\n",
        "idx = 0\n",
        "word2idx = {}\n",
        "vectors = []\n",
        "with open('/data/GCNN/glove.6B.300d.txt', 'rb') as f:\n",
        "    for l in f:\n",
        "        line = l.decode().split()\n",
        "        word = line[0]\n",
        "        words.append(word)\n",
        "        word2idx[word] = idx\n",
        "        idx += 1\n",
        "        vectors.append(line[1:])\n",
        "itos2=words\n",
        "\n",
        "#grab the glove embeddings we need, based on the words in our vocab\n",
        "stoi2 = collections.defaultdict(lambda:-1, {v:k for k,v in enumerate(itos2)}) #default -1 means its not in glove's itos2\n",
        "row_m = vectors[-1] #this is default vector... for <unk>\n",
        "new_w = np.zeros((vs, emb_sz), dtype=np.float32)#initialize new weights to zeros of size (vocab_size,embedding size) e.g. (60002,300)... we're creating an embedding matrix \n",
        "for i,w in enumerate(itos): #for index,word in our itos dict, get r index of the word in word2vec's dict. r will be -1 if it doesn't exist in word2vec's dict\n",
        "    r = stoi2[w]#r index of the word in word2vec's dict\n",
        "    new_w[i] = vectors[r] if r>=0 else row_m #for our new embedding matrix, set the embedding at the index from our dict equal to the embedding from index r from word2vec's dict\n",
        "np.save(DATAPATH/'emb_wgts300_proc_par2.npy', new_w) #save the embedding weights"
      ]
    },
    {
      "cell_type": "markdown",
      "metadata": {
        "id": "n5p3SEAl5jTZ"
      },
      "source": [
        "# Run GCNN"
      ]
    },
    {
      "cell_type": "code",
      "execution_count": null,
      "metadata": {
        "id": "7CEpWmYI5jTa"
      },
      "outputs": [],
      "source": [
        "class GLUblock(nn.Module):\n",
        "    def __init__(self, k, in_c, out_c, downbot):\n",
        "        super().__init__()\n",
        "        #only need to change shape of the residual if num_channels changes (i.e. in_c != out_c)\n",
        "        #[bs,in_c,seq_length]->conv(1,in_c,out_c)->[bs,out_c,seq_length]\n",
        "        if in_c == out_c:\n",
        "            self.use_proj=0\n",
        "        else:\n",
        "            self.use_proj=1\n",
        "        self.convresid=nn.utils.weight_norm(nn.Conv2d(in_c, out_c, kernel_size=(1,1)),name='weight',dim=0)\n",
        "        \n",
        "        self.leftpad = nn.ConstantPad2d((0,0,k-1,0),0)#(paddingLeft, paddingRight, paddingTop, paddingBottom)\n",
        "\n",
        "        #[bs,in_c,seq_length+(k-1)]->conv(1,in_c,in_c/downbot)->[bs,in_c/downbot,seq_length+(k-1)]\n",
        "        self.convx1a = nn.utils.weight_norm(nn.Conv2d(in_c, int(in_c/downbot), kernel_size=(1,1)),name='weight',dim=0)\n",
        "        self.convx2a = nn.utils.weight_norm(nn.Conv2d(in_c, int(in_c/downbot), kernel_size=(1,1)),name='weight',dim=0)\n",
        "        #[bs,in_c/downbot,seq_length+(k-1)]->conv(k,in_c/downbot,in_c/downbot)->[bs,in_c/downbot,seq_length]\n",
        "        self.convx1b = nn.utils.weight_norm(nn.Conv2d(int(in_c/downbot), int(in_c/downbot), kernel_size=(k,1)),name='weight',dim=0)\n",
        "        self.convx2b = nn.utils.weight_norm(nn.Conv2d(int(in_c/downbot), int(in_c/downbot), kernel_size=(k,1)),name='weight',dim=0)\n",
        "        #[bs,in_c/downbot,seq_length]->conv(1,in_c/downbot,out_c)->[bs,out_c,seq_length]\n",
        "        self.convx1c = nn.utils.weight_norm(nn.Conv2d(int(in_c/downbot), out_c, kernel_size=(1,1)),name='weight',dim=0)\n",
        "        self.convx2c = nn.utils.weight_norm(nn.Conv2d(int(in_c/downbot), out_c, kernel_size=(1,1)),name='weight',dim=0)\n",
        "\n",
        "    def forward(self, x):\n",
        "        residual = x\n",
        "        if self.use_proj==1:# if in_c != out_c, need to change size of residual\n",
        "            residual=self.convresid(residual)\n",
        "        x=self.leftpad(x) # [bs,in_c,seq_length+(k-1),1]\n",
        "        x1 = self.convx1c(self.convx1b(self.convx1a(x))) # [bs,out_c,seq_length,1]\n",
        "        x2 = self.convx2c(self.convx2b(self.convx2a(x))) # [bs,out_c,seq_length,1]\n",
        "        x2 = torch.sigmoid(x2)\n",
        "        x=torch.mul(x1,x2) # [bs,out_c,seq_length,1]\n",
        "        return x+residual"
      ]
    },
    {
      "cell_type": "code",
      "execution_count": null,
      "metadata": {
        "id": "2oqlxmtm5jTa"
      },
      "outputs": [],
      "source": [
        "class GCNNmodel(nn.Module):\n",
        "    def __init__(self, vs, emb_sz, k, nh, nl,downbot):\n",
        "    #def __init__(self, vs, emb_sz, k, nh, nl,dw,cutoffs):\n",
        "        super().__init__()\n",
        "        \n",
        "        self.embed = nn.Embedding(vs, emb_sz)\n",
        "        \n",
        "        self.inlayer=GLUblock(k,emb_sz,nh,downbot)\n",
        "        self.GLUlayers=self.make_GLU_layers(k,nh,nl,downbot)\n",
        "        self.out=nn.AdaptiveLogSoftmaxWithLoss(nh, vs, cutoffs=[round(vs/25),round(vs/5)],div_value=4)\n",
        "\n",
        "    def make_GLU_layers(self, k, nh, nl, downbot):\n",
        "        layers = [GLUblock(k, nh, nh, downbot) for i in range(nl)]\n",
        "        return nn.Sequential(*layers)\n",
        "        \n",
        "    def forward(self, x):\n",
        "        \n",
        "        target=x[1:,:]\n",
        "        target=target.contiguous().view(target.size()[0]*target.size()[1])#[seq_length*bs,out_c]\n",
        "        x=x[:-1,:]\n",
        "        \n",
        "        #first block\n",
        "        x = self.embed(torch.t(x)) # x -> [seq_length,bs] -> [bs,seq_length] -> [bs,seq_length,emb_sz] ... i.e. transpose 1st\n",
        "        x=torch.transpose(x, 1, 2) #[bs,emb_sz,seq_length]    \n",
        "        x = x.unsqueeze(3)  # [bs,emb_sz,seq_length,1]\n",
        "        x=self.inlayer(x) #[bs,nh,seq_length,1]\n",
        "             \n",
        "        #residual GLU blocks\n",
        "        x=self.GLUlayers(x) # [bs,nh,seq_length,1]\n",
        "        \n",
        "        #out\n",
        "        x=torch.squeeze(x,3) #[bs,out_c,seq_length]\n",
        "        x=torch.transpose(x, 1, 2) #[bs,seq_length,out_c]\n",
        "        x=torch.transpose(x, 0, 1) #[seq_length,bs,out_c]\n",
        "        x=x.contiguous().view(-1,x.size()[2])#[seq_length*bs,out_c]\n",
        "        outta=self.out(x,target)\n",
        "        \n",
        "        return    outta"
      ]
    },
    {
      "cell_type": "code",
      "execution_count": null,
      "metadata": {
        "id": "2XoYkv4D5jTb",
        "outputId": "84d15512-9a0f-4998-f03c-6c6d2456bef2"
      },
      "outputs": [
        {
          "name": "stdout",
          "output_type": "stream",
          "text": [
            "GCNNmodel(\n",
            "  (embed): Embedding(25005, 300)\n",
            "  (inlayer): GLUblock(\n",
            "    (convresid): Conv2d(300, 600, kernel_size=(1, 1), stride=(1, 1))\n",
            "    (leftpad): ConstantPad2d(padding=(0, 0, 3, 0), value=0)\n",
            "    (convx1a): Conv2d(300, 15, kernel_size=(1, 1), stride=(1, 1))\n",
            "    (convx2a): Conv2d(300, 15, kernel_size=(1, 1), stride=(1, 1))\n",
            "    (convx1b): Conv2d(15, 15, kernel_size=(4, 1), stride=(1, 1))\n",
            "    (convx2b): Conv2d(15, 15, kernel_size=(4, 1), stride=(1, 1))\n",
            "    (convx1c): Conv2d(15, 600, kernel_size=(1, 1), stride=(1, 1))\n",
            "    (convx2c): Conv2d(15, 600, kernel_size=(1, 1), stride=(1, 1))\n",
            "  )\n",
            "  (GLUlayers): Sequential(\n",
            "    (0): GLUblock(\n",
            "      (convresid): Conv2d(600, 600, kernel_size=(1, 1), stride=(1, 1))\n",
            "      (leftpad): ConstantPad2d(padding=(0, 0, 3, 0), value=0)\n",
            "      (convx1a): Conv2d(600, 30, kernel_size=(1, 1), stride=(1, 1))\n",
            "      (convx2a): Conv2d(600, 30, kernel_size=(1, 1), stride=(1, 1))\n",
            "      (convx1b): Conv2d(30, 30, kernel_size=(4, 1), stride=(1, 1))\n",
            "      (convx2b): Conv2d(30, 30, kernel_size=(4, 1), stride=(1, 1))\n",
            "      (convx1c): Conv2d(30, 600, kernel_size=(1, 1), stride=(1, 1))\n",
            "      (convx2c): Conv2d(30, 600, kernel_size=(1, 1), stride=(1, 1))\n",
            "    )\n",
            "    (1): GLUblock(\n",
            "      (convresid): Conv2d(600, 600, kernel_size=(1, 1), stride=(1, 1))\n",
            "      (leftpad): ConstantPad2d(padding=(0, 0, 3, 0), value=0)\n",
            "      (convx1a): Conv2d(600, 30, kernel_size=(1, 1), stride=(1, 1))\n",
            "      (convx2a): Conv2d(600, 30, kernel_size=(1, 1), stride=(1, 1))\n",
            "      (convx1b): Conv2d(30, 30, kernel_size=(4, 1), stride=(1, 1))\n",
            "      (convx2b): Conv2d(30, 30, kernel_size=(4, 1), stride=(1, 1))\n",
            "      (convx1c): Conv2d(30, 600, kernel_size=(1, 1), stride=(1, 1))\n",
            "      (convx2c): Conv2d(30, 600, kernel_size=(1, 1), stride=(1, 1))\n",
            "    )\n",
            "    (2): GLUblock(\n",
            "      (convresid): Conv2d(600, 600, kernel_size=(1, 1), stride=(1, 1))\n",
            "      (leftpad): ConstantPad2d(padding=(0, 0, 3, 0), value=0)\n",
            "      (convx1a): Conv2d(600, 30, kernel_size=(1, 1), stride=(1, 1))\n",
            "      (convx2a): Conv2d(600, 30, kernel_size=(1, 1), stride=(1, 1))\n",
            "      (convx1b): Conv2d(30, 30, kernel_size=(4, 1), stride=(1, 1))\n",
            "      (convx2b): Conv2d(30, 30, kernel_size=(4, 1), stride=(1, 1))\n",
            "      (convx1c): Conv2d(30, 600, kernel_size=(1, 1), stride=(1, 1))\n",
            "      (convx2c): Conv2d(30, 600, kernel_size=(1, 1), stride=(1, 1))\n",
            "    )\n",
            "    (3): GLUblock(\n",
            "      (convresid): Conv2d(600, 600, kernel_size=(1, 1), stride=(1, 1))\n",
            "      (leftpad): ConstantPad2d(padding=(0, 0, 3, 0), value=0)\n",
            "      (convx1a): Conv2d(600, 30, kernel_size=(1, 1), stride=(1, 1))\n",
            "      (convx2a): Conv2d(600, 30, kernel_size=(1, 1), stride=(1, 1))\n",
            "      (convx1b): Conv2d(30, 30, kernel_size=(4, 1), stride=(1, 1))\n",
            "      (convx2b): Conv2d(30, 30, kernel_size=(4, 1), stride=(1, 1))\n",
            "      (convx1c): Conv2d(30, 600, kernel_size=(1, 1), stride=(1, 1))\n",
            "      (convx2c): Conv2d(30, 600, kernel_size=(1, 1), stride=(1, 1))\n",
            "    )\n",
            "  )\n",
            "  (out): AdaptiveLogSoftmaxWithLoss(\n",
            "    (head): Linear(in_features=600, out_features=1002, bias=False)\n",
            "    (tail): ModuleList(\n",
            "      (0): Sequential(\n",
            "        (0): Linear(in_features=600, out_features=150, bias=False)\n",
            "        (1): Linear(in_features=150, out_features=4001, bias=False)\n",
            "      )\n",
            "      (1): Sequential(\n",
            "        (0): Linear(in_features=600, out_features=37, bias=False)\n",
            "        (1): Linear(in_features=37, out_features=20004, bias=False)\n",
            "      )\n",
            "    )\n",
            "  )\n",
            ")\n"
          ]
        }
      ],
      "source": [
        "#create GCNN \n",
        "GCNNnet=modeler(train_loader,val_loader,\n",
        "                           GCNNmodel(vs, emb_sz, k, nh, nl, downbot),modelvals)\n",
        "print(GCNNnet.model)"
      ]
    },
    {
      "cell_type": "code",
      "execution_count": null,
      "metadata": {
        "id": "vL0LgSiO5jTb"
      },
      "outputs": [],
      "source": [
        "#load the glove-vectors into the model\n",
        "new_w=np.load(DATAPATH/'emb_wgts300_proc_par2.npy') #load embedding weights\n",
        "GCNNnet.model.embed.weight.data=torch.FloatTensor(new_w).cuda()"
      ]
    },
    {
      "cell_type": "code",
      "execution_count": null,
      "metadata": {
        "id": "yeUnydin5jTc",
        "outputId": "af658c06-a1b5-475b-c533-cb54e2f7d0d2"
      },
      "outputs": [
        {
          "name": "stdout",
          "output_type": "stream",
          "text": [
            "Train Epoch: 0\tTotal_its: 0.00M [0.00M/0.01M]\tPercdone: 0.00\tLoss: 8.6694\tTime: 0.02\tLR: 1.0000\n",
            "Train Epoch: 0\tTotal_its: 0.01M [0.01M/0.01M]\tPercdone: 0.36\tLoss: 84.8770\tTime: 0.41\tLR: 1.0000\n",
            "Train Epoch: 0\tTotal_its: 0.01M [0.01M/0.01M]\tPercdone: 0.72\tLoss: 58.1936\tTime: 0.75\tLR: 1.0000\n",
            "Validation Loss: 19.4324\tPerp: 275028850.7105\n",
            "Train Epoch: 1\tTotal_its: 0.01M [0.00M/0.01M]\tPercdone: 0.00\tLoss: 17.9454\tTime: 1.33\tLR: 1.0000\n",
            "Train Epoch: 1\tTotal_its: 0.02M [0.01M/0.01M]\tPercdone: 0.36\tLoss: 10.2991\tTime: 1.72\tLR: 1.0000\n",
            "Train Epoch: 1\tTotal_its: 0.02M [0.01M/0.01M]\tPercdone: 0.72\tLoss: 5.0886\tTime: 2.28\tLR: 1.0000\n",
            "Validation Loss: 9.0299\tPerp: 8348.8260\n",
            "Train Epoch: 2\tTotal_its: 0.03M [0.00M/0.01M]\tPercdone: 0.00\tLoss: 8.2724\tTime: 2.79\tLR: 1.0000\n",
            "Train Epoch: 2\tTotal_its: 0.03M [0.01M/0.01M]\tPercdone: 0.36\tLoss: 7.9598\tTime: 3.17\tLR: 1.0000\n",
            "Train Epoch: 2\tTotal_its: 0.04M [0.01M/0.01M]\tPercdone: 0.72\tLoss: 4.8604\tTime: 3.56\tLR: 1.0000\n",
            "Validation Loss: 6.1673\tPerp: 476.9110\n",
            "Train Epoch: 3\tTotal_its: 0.04M [0.00M/0.01M]\tPercdone: 0.00\tLoss: 5.6165\tTime: 4.14\tLR: 1.0000\n",
            "Train Epoch: 3\tTotal_its: 0.05M [0.01M/0.01M]\tPercdone: 0.36\tLoss: 6.3661\tTime: 4.52\tLR: 1.0000\n",
            "Train Epoch: 3\tTotal_its: 0.05M [0.01M/0.01M]\tPercdone: 0.72\tLoss: 5.8590\tTime: 4.86\tLR: 1.0000\n",
            "Validation Loss: 5.3866\tPerp: 218.4700\n",
            "Train Epoch: 4\tTotal_its: 0.06M [0.00M/0.01M]\tPercdone: 0.00\tLoss: 5.0374\tTime: 5.34\tLR: 1.0000\n",
            "Train Epoch: 4\tTotal_its: 0.06M [0.01M/0.01M]\tPercdone: 0.36\tLoss: 3.2268\tTime: 5.69\tLR: 1.0000\n",
            "Train Epoch: 4\tTotal_its: 0.07M [0.01M/0.01M]\tPercdone: 0.72\tLoss: 5.2056\tTime: 6.17\tLR: 1.0000\n",
            "Validation Loss: 5.2598\tPerp: 192.4380\n",
            "Train Epoch: 5\tTotal_its: 0.07M [0.00M/0.01M]\tPercdone: 0.00\tLoss: 4.6302\tTime: 6.78\tLR: 1.0000\n",
            "Train Epoch: 5\tTotal_its: 0.07M [0.01M/0.01M]\tPercdone: 0.36\tLoss: 5.5237\tTime: 7.18\tLR: 1.0000\n",
            "Train Epoch: 5\tTotal_its: 0.08M [0.01M/0.01M]\tPercdone: 0.72\tLoss: 3.6871\tTime: 7.55\tLR: 1.0000\n",
            "Validation Loss: 5.2052\tPerp: 182.2230\n",
            "Train Epoch: 6\tTotal_its: 0.08M [0.00M/0.01M]\tPercdone: 0.00\tLoss: 4.8990\tTime: 8.09\tLR: 1.0000\n",
            "Train Epoch: 6\tTotal_its: 0.09M [0.01M/0.01M]\tPercdone: 0.36\tLoss: 5.1158\tTime: 8.46\tLR: 1.0000\n",
            "Train Epoch: 6\tTotal_its: 0.09M [0.01M/0.01M]\tPercdone: 0.72\tLoss: 4.6805\tTime: 8.94\tLR: 1.0000\n",
            "Validation Loss: 5.0845\tPerp: 161.4960\n",
            "Train Epoch: 7\tTotal_its: 0.10M [0.00M/0.01M]\tPercdone: 0.00\tLoss: 4.4816\tTime: 9.48\tLR: 1.0000\n",
            "Train Epoch: 7\tTotal_its: 0.10M [0.01M/0.01M]\tPercdone: 0.36\tLoss: 3.0224\tTime: 9.89\tLR: 1.0000\n",
            "Train Epoch: 7\tTotal_its: 0.11M [0.01M/0.01M]\tPercdone: 0.72\tLoss: 3.6455\tTime: 10.37\tLR: 1.0000\n",
            "Validation Loss: 5.0547\tPerp: 156.7502\n",
            "Train Epoch: 8\tTotal_its: 0.11M [0.00M/0.01M]\tPercdone: 0.00\tLoss: 4.7264\tTime: 10.94\tLR: 1.0000\n",
            "Train Epoch: 8\tTotal_its: 0.12M [0.01M/0.01M]\tPercdone: 0.36\tLoss: 5.2673\tTime: 11.34\tLR: 1.0000\n",
            "Train Epoch: 8\tTotal_its: 0.12M [0.01M/0.01M]\tPercdone: 0.72\tLoss: 3.0858\tTime: 11.72\tLR: 1.0000\n",
            "Validation Loss: 5.2619\tPerp: 192.8555\n",
            "Train Epoch: 9\tTotal_its: 0.13M [0.00M/0.01M]\tPercdone: 0.00\tLoss: 4.8520\tTime: 12.27\tLR: 1.0000\n",
            "Train Epoch: 9\tTotal_its: 0.13M [0.01M/0.01M]\tPercdone: 0.36\tLoss: 5.4744\tTime: 12.63\tLR: 1.0000\n",
            "Train Epoch: 9\tTotal_its: 0.14M [0.01M/0.01M]\tPercdone: 0.72\tLoss: 5.0996\tTime: 13.03\tLR: 1.0000\n",
            "Validation Loss: 4.9501\tPerp: 141.1929\n",
            "Train Epoch: 10\tTotal_its: 0.14M [0.00M/0.01M]\tPercdone: 0.00\tLoss: 4.6203\tTime: 13.56\tLR: 1.0000\n",
            "Train Epoch: 10\tTotal_its: 0.14M [0.01M/0.01M]\tPercdone: 0.36\tLoss: 2.9520\tTime: 13.95\tLR: 1.0000\n",
            "Train Epoch: 10\tTotal_its: 0.15M [0.01M/0.01M]\tPercdone: 0.72\tLoss: 3.3717\tTime: 14.44\tLR: 1.0000\n",
            "Validation Loss: 4.8968\tPerp: 133.8666\n",
            "Train Epoch: 11\tTotal_its: 0.15M [0.00M/0.01M]\tPercdone: 0.00\tLoss: 4.5133\tTime: 15.01\tLR: 1.0000\n",
            "Train Epoch: 11\tTotal_its: 0.16M [0.01M/0.01M]\tPercdone: 0.36\tLoss: 4.9189\tTime: 15.43\tLR: 1.0000\n",
            "Train Epoch: 11\tTotal_its: 0.16M [0.01M/0.01M]\tPercdone: 0.72\tLoss: 3.7814\tTime: 15.93\tLR: 1.0000\n",
            "Validation Loss: 4.8279\tPerp: 124.9533\n",
            "Train Epoch: 12\tTotal_its: 0.17M [0.00M/0.01M]\tPercdone: 0.00\tLoss: 4.4316\tTime: 16.46\tLR: 1.0000\n",
            "Train Epoch: 12\tTotal_its: 0.17M [0.01M/0.01M]\tPercdone: 0.36\tLoss: 5.1590\tTime: 16.84\tLR: 1.0000\n",
            "Train Epoch: 12\tTotal_its: 0.18M [0.01M/0.01M]\tPercdone: 0.72\tLoss: 5.2958\tTime: 17.21\tLR: 1.0000\n",
            "Validation Loss: 4.8253\tPerp: 124.6268\n",
            "Train Epoch: 13\tTotal_its: 0.18M [0.00M/0.01M]\tPercdone: 0.00\tLoss: 4.4220\tTime: 17.69\tLR: 1.0000\n",
            "Train Epoch: 13\tTotal_its: 0.19M [0.01M/0.01M]\tPercdone: 0.36\tLoss: 5.2309\tTime: 18.04\tLR: 1.0000\n",
            "Train Epoch: 13\tTotal_its: 0.19M [0.01M/0.01M]\tPercdone: 0.72\tLoss: 2.4893\tTime: 18.46\tLR: 1.0000\n",
            "Validation Loss: 4.7702\tPerp: 117.9387\n",
            "Train Epoch: 14\tTotal_its: 0.20M [0.00M/0.01M]\tPercdone: 0.00\tLoss: 4.3996\tTime: 19.03\tLR: 1.0000\n",
            "Train Epoch: 14\tTotal_its: 0.20M [0.01M/0.01M]\tPercdone: 0.36\tLoss: 4.0950\tTime: 19.47\tLR: 1.0000\n",
            "Train Epoch: 14\tTotal_its: 0.21M [0.01M/0.01M]\tPercdone: 0.72\tLoss: 4.0739\tTime: 19.97\tLR: 1.0000\n",
            "Validation Loss: 4.7196\tPerp: 112.1190\n",
            "Train Epoch: 15\tTotal_its: 0.21M [0.00M/0.01M]\tPercdone: 0.00\tLoss: 4.3948\tTime: 20.49\tLR: 1.0000\n",
            "Train Epoch: 15\tTotal_its: 0.21M [0.01M/0.01M]\tPercdone: 0.36\tLoss: 5.1700\tTime: 20.85\tLR: 1.0000\n",
            "Train Epoch: 15\tTotal_its: 0.22M [0.01M/0.01M]\tPercdone: 0.72\tLoss: 4.6870\tTime: 21.24\tLR: 1.0000\n",
            "Validation Loss: 4.8769\tPerp: 131.2285\n",
            "Train Epoch: 16\tTotal_its: 0.22M [0.00M/0.01M]\tPercdone: 0.00\tLoss: 4.3590\tTime: 21.81\tLR: 1.0000\n",
            "Train Epoch: 16\tTotal_its: 0.23M [0.01M/0.01M]\tPercdone: 0.36\tLoss: 3.4935\tTime: 22.27\tLR: 1.0000\n",
            "Train Epoch: 16\tTotal_its: 0.23M [0.01M/0.01M]\tPercdone: 0.72\tLoss: 3.1645\tTime: 22.79\tLR: 1.0000\n",
            "Validation Loss: 4.6689\tPerp: 106.5857\n",
            "Train Epoch: 17\tTotal_its: 0.24M [0.00M/0.01M]\tPercdone: 0.00\tLoss: 4.3010\tTime: 23.31\tLR: 1.0000\n",
            "Train Epoch: 17\tTotal_its: 0.24M [0.01M/0.01M]\tPercdone: 0.36\tLoss: 6.0338\tTime: 23.71\tLR: 1.0000\n",
            "Train Epoch: 17\tTotal_its: 0.25M [0.01M/0.01M]\tPercdone: 0.72\tLoss: 5.3397\tTime: 24.06\tLR: 1.0000\n",
            "Validation Loss: 4.9044\tPerp: 134.8758\n",
            "Train Epoch: 18\tTotal_its: 0.25M [0.00M/0.01M]\tPercdone: 0.00\tLoss: 4.6104\tTime: 24.57\tLR: 1.0000\n",
            "Train Epoch: 18\tTotal_its: 0.26M [0.01M/0.01M]\tPercdone: 0.36\tLoss: 2.8994\tTime: 24.97\tLR: 1.0000\n",
            "Train Epoch: 18\tTotal_its: 0.26M [0.01M/0.01M]\tPercdone: 0.72\tLoss: 4.1977\tTime: 25.48\tLR: 1.0000\n",
            "Validation Loss: 4.7991\tPerp: 121.3997\n",
            "Train Epoch: 19\tTotal_its: 0.26M [0.00M/0.01M]\tPercdone: 0.00\tLoss: 4.4774\tTime: 26.02\tLR: 1.0000\n",
            "Train Epoch: 19\tTotal_its: 0.27M [0.01M/0.01M]\tPercdone: 0.36\tLoss: 2.6319\tTime: 26.42\tLR: 1.0000\n",
            "Train Epoch: 19\tTotal_its: 0.27M [0.01M/0.01M]\tPercdone: 0.72\tLoss: 2.8841\tTime: 26.92\tLR: 1.0000\n",
            "Validation Loss: 4.7361\tPerp: 113.9925\n",
            "Train Epoch: 20\tTotal_its: 0.28M [0.00M/0.01M]\tPercdone: 0.00\tLoss: 4.3513\tTime: 27.49\tLR: 1.0000\n",
            "Train Epoch: 20\tTotal_its: 0.28M [0.01M/0.01M]\tPercdone: 0.36\tLoss: 4.5869\tTime: 27.95\tLR: 1.0000\n",
            "Train Epoch: 20\tTotal_its: 0.29M [0.01M/0.01M]\tPercdone: 0.72\tLoss: 2.5135\tTime: 28.39\tLR: 1.0000\n",
            "Validation Loss: 4.7089\tPerp: 110.9319\n",
            "Train Epoch: 21\tTotal_its: 0.29M [0.00M/0.01M]\tPercdone: 0.00\tLoss: 4.3648\tTime: 28.96\tLR: 1.0000\n",
            "Train Epoch: 21\tTotal_its: 0.30M [0.01M/0.01M]\tPercdone: 0.36\tLoss: 4.7563\tTime: 29.32\tLR: 1.0000\n",
            "Train Epoch: 21\tTotal_its: 0.30M [0.01M/0.01M]\tPercdone: 0.72\tLoss: 4.9822\tTime: 29.68\tLR: 1.0000\n",
            "Validation Loss: 4.9916\tPerp: 147.1683\n",
            "Train Epoch: 22\tTotal_its: 0.31M [0.00M/0.01M]\tPercdone: 0.00\tLoss: 4.5618\tTime: 30.22\tLR: 1.0000\n",
            "Train Epoch: 22\tTotal_its: 0.31M [0.01M/0.01M]\tPercdone: 0.36\tLoss: 5.0024\tTime: 30.62\tLR: 1.0000\n",
            "Train Epoch: 22\tTotal_its: 0.32M [0.01M/0.01M]\tPercdone: 0.72\tLoss: 3.1904\tTime: 31.03\tLR: 1.0000\n",
            "Validation Loss: 4.6293\tPerp: 102.4428\n",
            "Train Epoch: 23\tTotal_its: 0.32M [0.00M/0.01M]\tPercdone: 0.00\tLoss: 4.3365\tTime: 31.53\tLR: 1.0000\n",
            "Train Epoch: 23\tTotal_its: 0.33M [0.01M/0.01M]\tPercdone: 0.36\tLoss: 5.0842\tTime: 31.85\tLR: 1.0000\n",
            "Train Epoch: 23\tTotal_its: 0.33M [0.01M/0.01M]\tPercdone: 0.72\tLoss: 4.8928\tTime: 32.29\tLR: 1.0000\n",
            "Validation Loss: 4.7521\tPerp: 115.8234\n",
            "Train Epoch: 24\tTotal_its: 0.33M [0.00M/0.01M]\tPercdone: 0.00\tLoss: 4.2743\tTime: 32.88\tLR: 1.0000\n",
            "Train Epoch: 24\tTotal_its: 0.34M [0.01M/0.01M]\tPercdone: 0.36\tLoss: 4.9039\tTime: 33.20\tLR: 1.0000\n",
            "Train Epoch: 24\tTotal_its: 0.34M [0.01M/0.01M]\tPercdone: 0.72\tLoss: 4.9656\tTime: 33.56\tLR: 1.0000\n"
          ]
        },
        {
          "name": "stdout",
          "output_type": "stream",
          "text": [
            "Validation Loss: 4.6390\tPerp: 103.4425\n",
            "Train Epoch: 25\tTotal_its: 0.35M [0.00M/0.01M]\tPercdone: 0.00\tLoss: 4.3723\tTime: 34.09\tLR: 1.0000\n",
            "Train Epoch: 25\tTotal_its: 0.35M [0.01M/0.01M]\tPercdone: 0.36\tLoss: 4.7923\tTime: 34.43\tLR: 1.0000\n",
            "Train Epoch: 25\tTotal_its: 0.36M [0.01M/0.01M]\tPercdone: 0.72\tLoss: 3.5208\tTime: 34.81\tLR: 1.0000\n",
            "Validation Loss: 4.6359\tPerp: 103.1180\n",
            "Train Epoch: 26\tTotal_its: 0.36M [0.00M/0.01M]\tPercdone: 0.00\tLoss: 4.3438\tTime: 35.38\tLR: 1.0000\n",
            "Train Epoch: 26\tTotal_its: 0.37M [0.01M/0.01M]\tPercdone: 0.36\tLoss: 4.0997\tTime: 35.74\tLR: 1.0000\n",
            "Train Epoch: 26\tTotal_its: 0.37M [0.01M/0.01M]\tPercdone: 0.72\tLoss: 4.1723\tTime: 36.23\tLR: 1.0000\n",
            "Validation Loss: 4.5227\tPerp: 92.0815\n",
            "Train Epoch: 27\tTotal_its: 0.38M [0.00M/0.01M]\tPercdone: 0.00\tLoss: 4.1727\tTime: 36.76\tLR: 1.0000\n",
            "Train Epoch: 27\tTotal_its: 0.38M [0.01M/0.01M]\tPercdone: 0.36\tLoss: 4.7655\tTime: 37.13\tLR: 1.0000\n",
            "Train Epoch: 27\tTotal_its: 0.39M [0.01M/0.01M]\tPercdone: 0.72\tLoss: 4.1541\tTime: 37.53\tLR: 1.0000\n",
            "Validation Loss: 4.5349\tPerp: 93.2151\n",
            "Train Epoch: 28\tTotal_its: 0.39M [0.00M/0.01M]\tPercdone: 0.00\tLoss: 4.2471\tTime: 38.11\tLR: 1.0000\n",
            "Train Epoch: 28\tTotal_its: 0.40M [0.01M/0.01M]\tPercdone: 0.36\tLoss: 4.0073\tTime: 38.52\tLR: 1.0000\n",
            "Train Epoch: 28\tTotal_its: 0.40M [0.01M/0.01M]\tPercdone: 0.72\tLoss: 3.1431\tTime: 38.92\tLR: 1.0000\n",
            "Validation Loss: 4.5124\tPerp: 91.1428\n",
            "Train Epoch: 29\tTotal_its: 0.40M [0.00M/0.01M]\tPercdone: 0.00\tLoss: 4.0575\tTime: 39.46\tLR: 1.0000\n",
            "Train Epoch: 29\tTotal_its: 0.41M [0.01M/0.01M]\tPercdone: 0.36\tLoss: 4.9370\tTime: 39.82\tLR: 1.0000\n",
            "Train Epoch: 29\tTotal_its: 0.41M [0.01M/0.01M]\tPercdone: 0.72\tLoss: 4.6131\tTime: 40.19\tLR: 1.0000\n",
            "Validation Loss: 4.5202\tPerp: 91.8518\n",
            "Train Epoch: 30\tTotal_its: 0.42M [0.00M/0.01M]\tPercdone: 0.00\tLoss: 4.2422\tTime: 40.72\tLR: 1.0000\n",
            "Train Epoch: 30\tTotal_its: 0.42M [0.01M/0.01M]\tPercdone: 0.36\tLoss: 4.8149\tTime: 41.09\tLR: 1.0000\n",
            "Train Epoch: 30\tTotal_its: 0.43M [0.01M/0.01M]\tPercdone: 0.72\tLoss: 3.2618\tTime: 41.50\tLR: 1.0000\n",
            "Validation Loss: 4.5992\tPerp: 99.4012\n",
            "Train Epoch: 31\tTotal_its: 0.43M [0.00M/0.01M]\tPercdone: 0.00\tLoss: 4.2899\tTime: 42.06\tLR: 1.0000\n",
            "Train Epoch: 31\tTotal_its: 0.44M [0.01M/0.01M]\tPercdone: 0.36\tLoss: 3.3326\tTime: 42.40\tLR: 1.0000\n",
            "Train Epoch: 31\tTotal_its: 0.44M [0.01M/0.01M]\tPercdone: 0.72\tLoss: 2.8255\tTime: 42.79\tLR: 1.0000\n",
            "Validation Loss: 4.5738\tPerp: 96.9090\n",
            "Train Epoch: 32\tTotal_its: 0.45M [0.00M/0.01M]\tPercdone: 0.00\tLoss: 4.3386\tTime: 43.32\tLR: 1.0000\n",
            "Train Epoch: 32\tTotal_its: 0.45M [0.01M/0.01M]\tPercdone: 0.36\tLoss: 3.8841\tTime: 43.70\tLR: 1.0000\n",
            "Train Epoch: 32\tTotal_its: 0.46M [0.01M/0.01M]\tPercdone: 0.72\tLoss: 3.9975\tTime: 44.21\tLR: 1.0000\n",
            "Validation Loss: 4.4784\tPerp: 88.0954\n",
            "Train Epoch: 33\tTotal_its: 0.46M [0.00M/0.01M]\tPercdone: 0.00\tLoss: 4.1303\tTime: 44.74\tLR: 1.0000\n",
            "Train Epoch: 33\tTotal_its: 0.46M [0.01M/0.01M]\tPercdone: 0.36\tLoss: 4.8749\tTime: 45.09\tLR: 1.0000\n",
            "Train Epoch: 33\tTotal_its: 0.47M [0.01M/0.01M]\tPercdone: 0.72\tLoss: 3.2743\tTime: 45.46\tLR: 1.0000\n",
            "Validation Loss: 4.4749\tPerp: 87.7841\n",
            "Train Epoch: 34\tTotal_its: 0.47M [0.00M/0.01M]\tPercdone: 0.00\tLoss: 4.1614\tTime: 46.05\tLR: 1.0000\n",
            "Train Epoch: 34\tTotal_its: 0.48M [0.01M/0.01M]\tPercdone: 0.36\tLoss: 4.7210\tTime: 46.42\tLR: 1.0000\n",
            "Train Epoch: 34\tTotal_its: 0.48M [0.01M/0.01M]\tPercdone: 0.72\tLoss: 4.7870\tTime: 46.77\tLR: 1.0000\n",
            "Validation Loss: 4.4799\tPerp: 88.2222\n",
            "Train Epoch: 35\tTotal_its: 0.49M [0.00M/0.01M]\tPercdone: 0.00\tLoss: 4.1572\tTime: 47.27\tLR: 1.0000\n",
            "Train Epoch: 35\tTotal_its: 0.49M [0.01M/0.01M]\tPercdone: 0.36\tLoss: 4.5153\tTime: 47.64\tLR: 1.0000\n",
            "Train Epoch: 35\tTotal_its: 0.50M [0.01M/0.01M]\tPercdone: 0.72\tLoss: 2.9522\tTime: 48.13\tLR: 1.0000\n",
            "Validation Loss: 4.5201\tPerp: 91.8445\n",
            "Train Epoch: 36\tTotal_its: 0.50M [0.00M/0.01M]\tPercdone: 0.00\tLoss: 4.1842\tTime: 48.70\tLR: 1.0000\n",
            "Train Epoch: 36\tTotal_its: 0.51M [0.01M/0.01M]\tPercdone: 0.36\tLoss: 4.8094\tTime: 49.06\tLR: 1.0000\n",
            "Train Epoch: 36\tTotal_its: 0.51M [0.01M/0.01M]\tPercdone: 0.72\tLoss: 4.8716\tTime: 49.42\tLR: 1.0000\n",
            "Validation Loss: 4.6240\tPerp: 101.8970\n",
            "Train Epoch: 37\tTotal_its: 0.52M [0.00M/0.01M]\tPercdone: 0.00\tLoss: 4.1961\tTime: 49.94\tLR: 1.0000\n",
            "Train Epoch: 37\tTotal_its: 0.52M [0.01M/0.01M]\tPercdone: 0.36\tLoss: 3.8111\tTime: 50.37\tLR: 1.0000\n",
            "Train Epoch: 37\tTotal_its: 0.53M [0.01M/0.01M]\tPercdone: 0.72\tLoss: 2.3497\tTime: 50.88\tLR: 1.0000\n",
            "Validation Loss: 5.3898\tPerp: 219.1675\n",
            "Train Epoch: 38\tTotal_its: 0.53M [0.00M/0.01M]\tPercdone: 0.00\tLoss: 4.7917\tTime: 51.42\tLR: 1.0000\n",
            "Train Epoch: 38\tTotal_its: 0.53M [0.01M/0.01M]\tPercdone: 0.36\tLoss: 3.6689\tTime: 51.84\tLR: 1.0000\n",
            "Train Epoch: 38\tTotal_its: 0.54M [0.01M/0.01M]\tPercdone: 0.72\tLoss: 3.0009\tTime: 52.32\tLR: 1.0000\n",
            "Validation Loss: 4.4403\tPerp: 84.7964\n",
            "Train Epoch: 39\tTotal_its: 0.54M [0.00M/0.01M]\tPercdone: 0.00\tLoss: 4.0633\tTime: 52.86\tLR: 1.0000\n",
            "Train Epoch: 39\tTotal_its: 0.55M [0.01M/0.01M]\tPercdone: 0.36\tLoss: 4.6915\tTime: 53.23\tLR: 1.0000\n",
            "Train Epoch: 39\tTotal_its: 0.55M [0.01M/0.01M]\tPercdone: 0.72\tLoss: 3.4349\tTime: 53.65\tLR: 1.0000\n",
            "Validation Loss: 4.5088\tPerp: 90.8145\n",
            "Train Epoch: 40\tTotal_its: 0.56M [0.00M/0.01M]\tPercdone: 0.00\tLoss: 4.1189\tTime: 54.19\tLR: 1.0000\n",
            "Train Epoch: 40\tTotal_its: 0.56M [0.01M/0.01M]\tPercdone: 0.36\tLoss: 4.6307\tTime: 54.56\tLR: 1.0000\n",
            "Train Epoch: 40\tTotal_its: 0.57M [0.01M/0.01M]\tPercdone: 0.72\tLoss: 4.1683\tTime: 54.91\tLR: 1.0000\n",
            "Validation Loss: 4.4043\tPerp: 81.8024\n",
            "Train Epoch: 41\tTotal_its: 0.57M [0.00M/0.01M]\tPercdone: 0.00\tLoss: 4.0045\tTime: 55.38\tLR: 1.0000\n",
            "Train Epoch: 41\tTotal_its: 0.58M [0.01M/0.01M]\tPercdone: 0.36\tLoss: 3.2796\tTime: 55.78\tLR: 1.0000\n",
            "Train Epoch: 41\tTotal_its: 0.58M [0.01M/0.01M]\tPercdone: 0.72\tLoss: 3.7275\tTime: 56.28\tLR: 1.0000\n",
            "Validation Loss: 4.4137\tPerp: 82.5730\n",
            "Train Epoch: 42\tTotal_its: 0.58M [0.00M/0.01M]\tPercdone: 0.00\tLoss: 4.0356\tTime: 56.84\tLR: 1.0000\n",
            "Train Epoch: 42\tTotal_its: 0.59M [0.01M/0.01M]\tPercdone: 0.36\tLoss: 4.4527\tTime: 57.25\tLR: 1.0000\n",
            "Train Epoch: 42\tTotal_its: 0.59M [0.01M/0.01M]\tPercdone: 0.72\tLoss: 4.5311\tTime: 57.60\tLR: 1.0000\n",
            "Validation Loss: 4.4988\tPerp: 89.9090\n",
            "Train Epoch: 43\tTotal_its: 0.60M [0.00M/0.01M]\tPercdone: 0.00\tLoss: 4.1005\tTime: 58.06\tLR: 1.0000\n",
            "Train Epoch: 43\tTotal_its: 0.60M [0.01M/0.01M]\tPercdone: 0.36\tLoss: 3.1576\tTime: 58.48\tLR: 1.0000\n",
            "Train Epoch: 43\tTotal_its: 0.61M [0.01M/0.01M]\tPercdone: 0.72\tLoss: 2.2688\tTime: 58.95\tLR: 1.0000\n",
            "Validation Loss: 4.4388\tPerp: 84.6761\n",
            "Train Epoch: 44\tTotal_its: 0.61M [0.00M/0.01M]\tPercdone: 0.00\tLoss: 4.0453\tTime: 59.52\tLR: 1.0000\n",
            "Train Epoch: 44\tTotal_its: 0.62M [0.01M/0.01M]\tPercdone: 0.36\tLoss: 3.3627\tTime: 59.96\tLR: 1.0000\n",
            "Train Epoch: 44\tTotal_its: 0.62M [0.01M/0.01M]\tPercdone: 0.72\tLoss: 3.8955\tTime: 60.46\tLR: 1.0000\n",
            "Validation Loss: 4.4294\tPerp: 83.8801\n",
            "Train Epoch: 45\tTotal_its: 0.63M [0.00M/0.01M]\tPercdone: 0.00\tLoss: 4.0813\tTime: 60.96\tLR: 1.0000\n",
            "Train Epoch: 45\tTotal_its: 0.63M [0.01M/0.01M]\tPercdone: 0.36\tLoss: 2.2595\tTime: 61.32\tLR: 1.0000\n",
            "Train Epoch: 45\tTotal_its: 0.64M [0.01M/0.01M]\tPercdone: 0.72\tLoss: 4.1504\tTime: 61.80\tLR: 1.0000\n",
            "Validation Loss: 4.4149\tPerp: 82.6749\n",
            "Train Epoch: 46\tTotal_its: 0.64M [0.00M/0.01M]\tPercdone: 0.00\tLoss: 3.9627\tTime: 62.37\tLR: 1.0000\n",
            "Train Epoch: 46\tTotal_its: 0.65M [0.01M/0.01M]\tPercdone: 0.36\tLoss: 3.0087\tTime: 62.82\tLR: 1.0000\n",
            "Train Epoch: 46\tTotal_its: 0.65M [0.01M/0.01M]\tPercdone: 0.72\tLoss: 3.3756\tTime: 63.30\tLR: 1.0000\n",
            "Validation Loss: 4.4361\tPerp: 84.4412\n",
            "Train Epoch: 47\tTotal_its: 0.65M [0.00M/0.01M]\tPercdone: 0.00\tLoss: 4.0805\tTime: 63.85\tLR: 1.0000\n",
            "Train Epoch: 47\tTotal_its: 0.66M [0.01M/0.01M]\tPercdone: 0.36\tLoss: 3.3971\tTime: 64.22\tLR: 1.0000\n",
            "Train Epoch: 47\tTotal_its: 0.66M [0.01M/0.01M]\tPercdone: 0.72\tLoss: 4.5558\tTime: 64.59\tLR: 1.0000\n",
            "Validation Loss: 4.3621\tPerp: 78.4252\n",
            "Train Epoch: 48\tTotal_its: 0.67M [0.00M/0.01M]\tPercdone: 0.00\tLoss: 4.0530\tTime: 65.14\tLR: 1.0000\n",
            "Train Epoch: 48\tTotal_its: 0.67M [0.01M/0.01M]\tPercdone: 0.36\tLoss: 3.2328\tTime: 65.53\tLR: 1.0000\n",
            "Train Epoch: 48\tTotal_its: 0.68M [0.01M/0.01M]\tPercdone: 0.72\tLoss: 3.8450\tTime: 66.04\tLR: 1.0000\n",
            "Validation Loss: 4.3391\tPerp: 76.6391\n",
            "Train Epoch: 49\tTotal_its: 0.68M [0.00M/0.01M]\tPercdone: 0.00\tLoss: 4.0384\tTime: 66.58\tLR: 1.0000\n",
            "Train Epoch: 49\tTotal_its: 0.69M [0.01M/0.01M]\tPercdone: 0.36\tLoss: 9.1302\tTime: 66.95\tLR: 1.0000\n"
          ]
        },
        {
          "name": "stdout",
          "output_type": "stream",
          "text": [
            "Train Epoch: 49\tTotal_its: 0.69M [0.01M/0.01M]\tPercdone: 0.72\tLoss: 5.2233\tTime: 67.30\tLR: 1.0000\n",
            "Validation Loss: 4.7790\tPerp: 118.9911\n",
            "The end! 67.84 minutes\n"
          ]
        }
      ],
      "source": [
        "GCNNnet.model_fit()"
      ]
    },
    {
      "cell_type": "code",
      "execution_count": null,
      "metadata": {
        "id": "62NlCmF95jTc"
      },
      "outputs": [],
      "source": []
    },
    {
      "cell_type": "code",
      "execution_count": null,
      "metadata": {
        "id": "dkr-as6n5jTc"
      },
      "outputs": [],
      "source": [
        "epoch_list,loss_list,perp_list,time_list=zip(*GCNNnet.modelvals['val_loss_list'])"
      ]
    },
    {
      "cell_type": "code",
      "execution_count": null,
      "metadata": {
        "id": "4x0PSFzf5jTd",
        "outputId": "ce1ede91-1ff2-4b9b-d63e-28a79da12e32"
      },
      "outputs": [
        {
          "data": {
            "image/png": "[encoded data removed]",
            "text/plain": [
              "<Figure size 432x288 with 1 Axes>"
            ]
          },
          "metadata": {},
          "output_type": "display_data"
        }
      ],
      "source": [
        "plt.plot(list(range(3,51)),perp_list[2:])\n",
        "plt.xlabel('Epoch')\n",
        "plt.ylabel('Perplexity')\n",
        "plt.show()"
      ]
    },
    {
      "cell_type": "code",
      "execution_count": null,
      "metadata": {
        "id": "4C7k1UvU5jTd"
      },
      "outputs": [],
      "source": []
    }
  ],
  "metadata": {
    "kernelspec": {
      "display_name": "Python 3",
      "language": "python",
      "name": "python3"
    },
    "language_info": {
      "codemirror_mode": {
        "name": "ipython",
        "version": 3
      },
      "file_extension": ".py",
      "mimetype": "text/x-python",
      "name": "python",
      "nbconvert_exporter": "python",
      "pygments_lexer": "ipython3",
      "version": "3.6.7"
    },
    "colab": {
      "provenance": []
    }
  },
  "nbformat": 4,
  "nbformat_minor": 0
}